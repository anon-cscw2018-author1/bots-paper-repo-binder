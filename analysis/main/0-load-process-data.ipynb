{
 "cells": [
  {
   "cell_type": "markdown",
   "metadata": {},
   "source": [
    "# Loading and processing datasets of all bot-bot reverts for all languages\n",
    "\n",
    "This is the first script that you can run based entirely off the files in this GitHub repository. This generates:\n",
    "- `/datasets/parsed_dataframes/df_all_2016.pickle`\n",
    "- `/datasets/parsed_dataframes/df_all_2016.pickle.xz`\n",
    "\n",
    "which are used for the analyses in section 4 (4-*.ipynb) and as the basis of the comment parsing analysis in section 6.1.\n",
    "\n",
    "This entire notebook can be run from the beginning with Kernel -> Restart & Run All in the menu bar. On a laptop running a Core i5-2540M processor, it takes about 5 minutes to run, then another 5 minutes to compress to xz."
   ]
  },
  {
   "cell_type": "code",
   "execution_count": 1,
   "metadata": {
    "collapsed": true
   },
   "outputs": [],
   "source": [
    "import pandas as pd\n",
    "import seaborn as sns\n",
    "import matplotlib.pyplot as plt\n",
    "import numpy as np\n",
    "import glob\n",
    "import datetime\n",
    "%matplotlib inline\n",
    "\n",
    "pd.set_option(\"display.max_columns\",100)"
   ]
  },
  {
   "cell_type": "code",
   "execution_count": 2,
   "metadata": {
    "collapsed": true
   },
   "outputs": [],
   "source": [
    "start = datetime.datetime.now()"
   ]
  },
  {
   "cell_type": "markdown",
   "metadata": {},
   "source": [
    "## Data processing\n",
    "\n",
    "Initial datasets of bot-bot reverts are stored in datasets/reverted_bot2bot/ as TSV files compressed in bzip2 format for each language."
   ]
  },
  {
   "cell_type": "code",
   "execution_count": 3,
   "metadata": {},
   "outputs": [
    {
     "name": "stdout",
     "output_type": "stream",
     "text": [
      "../../datasets/reverted_bot2bot/dewiki_20170420.tsv.bz2\r\n",
      "../../datasets/reverted_bot2bot/enwiki_20170420.tsv.bz2\r\n",
      "../../datasets/reverted_bot2bot/eswiki_20170420.tsv.bz2\r\n",
      "../../datasets/reverted_bot2bot/frwiki_20170420.tsv.bz2\r\n",
      "../../datasets/reverted_bot2bot/jawiki_20170420.tsv.bz2\r\n",
      "../../datasets/reverted_bot2bot/ptwiki_20170420.tsv.bz2\r\n",
      "../../datasets/reverted_bot2bot/zhwiki_20170420.tsv.bz2\r\n"
     ]
    }
   ],
   "source": [
    "!ls ../../datasets/reverted_bot2bot/*.bz2"
   ]
  },
  {
   "cell_type": "code",
   "execution_count": 4,
   "metadata": {
    "collapsed": true
   },
   "outputs": [],
   "source": [
    "!bunzip2 -kf ../../datasets/reverted_bot2bot/*.bz2"
   ]
  },
  {
   "cell_type": "code",
   "execution_count": 5,
   "metadata": {},
   "outputs": [
    {
     "name": "stdout",
     "output_type": "stream",
     "text": [
      "../../datasets/reverted_bot2bot/dewiki_20170420.tsv\r\n",
      "../../datasets/reverted_bot2bot/enwiki_20170420.tsv\r\n",
      "../../datasets/reverted_bot2bot/eswiki_20170420.tsv\r\n",
      "../../datasets/reverted_bot2bot/frwiki_20170420.tsv\r\n",
      "../../datasets/reverted_bot2bot/jawiki_20170420.tsv\r\n",
      "../../datasets/reverted_bot2bot/ptwiki_20170420.tsv\r\n",
      "../../datasets/reverted_bot2bot/zhwiki_20170420.tsv\r\n"
     ]
    }
   ],
   "source": [
    "!ls ../../datasets/reverted_bot2bot/*.tsv"
   ]
  },
  {
   "cell_type": "code",
   "execution_count": 6,
   "metadata": {},
   "outputs": [
    {
     "data": {
      "text/plain": [
       "['../../datasets/reverted_bot2bot/enwiki_20170420.tsv',\n",
       " '../../datasets/reverted_bot2bot/eswiki_20170420.tsv',\n",
       " '../../datasets/reverted_bot2bot/frwiki_20170420.tsv',\n",
       " '../../datasets/reverted_bot2bot/dewiki_20170420.tsv',\n",
       " '../../datasets/reverted_bot2bot/jawiki_20170420.tsv',\n",
       " '../../datasets/reverted_bot2bot/ptwiki_20170420.tsv',\n",
       " '../../datasets/reverted_bot2bot/zhwiki_20170420.tsv']"
      ]
     },
     "execution_count": 6,
     "metadata": {},
     "output_type": "execute_result"
    }
   ],
   "source": [
    "glob.glob(\"../../datasets/reverted_bot2bot/??wiki_20170420.tsv\")"
   ]
  },
  {
   "cell_type": "code",
   "execution_count": 7,
   "metadata": {
    "collapsed": true
   },
   "outputs": [],
   "source": [
    "df_dict = {}\n",
    "for filename in glob.glob(\"../../datasets/reverted_bot2bot/??wiki_20170420.tsv\"):\n",
    "    lang_code = filename[32:34]\n",
    "    df_dict[lang_code] = pd.read_csv(filename, sep=\"\\t\")\n",
    "    df_dict[lang_code] = df_dict[lang_code].drop_duplicates()"
   ]
  },
  {
   "cell_type": "code",
   "execution_count": null,
   "metadata": {
    "collapsed": true
   },
   "outputs": [],
   "source": []
  },
  {
   "cell_type": "code",
   "execution_count": 8,
   "metadata": {},
   "outputs": [
    {
     "name": "stdout",
     "output_type": "stream",
     "text": [
      "es 89077\n",
      "ja 45149\n",
      "pt 70973\n",
      "zh 51536\n",
      "en 512562\n",
      "de 69690\n",
      "fr 96480\n"
     ]
    }
   ],
   "source": [
    "for lang, lang_df in df_dict.items():\n",
    "    print(lang, len(lang_df))"
   ]
  },
  {
   "cell_type": "code",
   "execution_count": 9,
   "metadata": {},
   "outputs": [
    {
     "data": {
      "text/html": [
       "<div>\n",
       "<table border=\"1\" class=\"dataframe\">\n",
       "  <thead>\n",
       "    <tr style=\"text-align: right;\">\n",
       "      <th></th>\n",
       "      <th>0</th>\n",
       "      <th>1</th>\n",
       "    </tr>\n",
       "  </thead>\n",
       "  <tbody>\n",
       "    <tr>\n",
       "      <th>rev_id</th>\n",
       "      <td>273691771</td>\n",
       "      <td>136526894</td>\n",
       "    </tr>\n",
       "    <tr>\n",
       "      <th>rev_timestamp</th>\n",
       "      <td>20090227173507</td>\n",
       "      <td>20070607044209</td>\n",
       "    </tr>\n",
       "    <tr>\n",
       "      <th>rev_user</th>\n",
       "      <td>6505923</td>\n",
       "      <td>4534303</td>\n",
       "    </tr>\n",
       "    <tr>\n",
       "      <th>rev_user_text</th>\n",
       "      <td>Kbdankbot</td>\n",
       "      <td>PbBot</td>\n",
       "    </tr>\n",
       "    <tr>\n",
       "      <th>rev_page</th>\n",
       "      <td>5040439</td>\n",
       "      <td>3046554</td>\n",
       "    </tr>\n",
       "    <tr>\n",
       "      <th>rev_sha1</th>\n",
       "      <td>qj45ne2z4yfexmpaz5wfnbm2yrmqt4j</td>\n",
       "      <td>3xtnw7u4w9h6cg1smw97mqnr1en6a55</td>\n",
       "    </tr>\n",
       "    <tr>\n",
       "      <th>rev_minor_edit</th>\n",
       "      <td>False</td>\n",
       "      <td>False</td>\n",
       "    </tr>\n",
       "    <tr>\n",
       "      <th>rev_deleted</th>\n",
       "      <td>False</td>\n",
       "      <td>False</td>\n",
       "    </tr>\n",
       "    <tr>\n",
       "      <th>rev_parent_id</th>\n",
       "      <td>2.59117e+08</td>\n",
       "      <td>1.20932e+08</td>\n",
       "    </tr>\n",
       "    <tr>\n",
       "      <th>archived</th>\n",
       "      <td>False</td>\n",
       "      <td>False</td>\n",
       "    </tr>\n",
       "    <tr>\n",
       "      <th>reverting_id</th>\n",
       "      <td>273789753</td>\n",
       "      <td>269875438</td>\n",
       "    </tr>\n",
       "    <tr>\n",
       "      <th>reverting_timestamp</th>\n",
       "      <td>20090228021925</td>\n",
       "      <td>20090210230337</td>\n",
       "    </tr>\n",
       "    <tr>\n",
       "      <th>reverting_user</th>\n",
       "      <td>1215485</td>\n",
       "      <td>7328338</td>\n",
       "    </tr>\n",
       "    <tr>\n",
       "      <th>reverting_user_text</th>\n",
       "      <td>Cydebot</td>\n",
       "      <td>Yobot</td>\n",
       "    </tr>\n",
       "    <tr>\n",
       "      <th>reverting_page</th>\n",
       "      <td>5040439</td>\n",
       "      <td>3046554</td>\n",
       "    </tr>\n",
       "    <tr>\n",
       "      <th>reverting_sha1</th>\n",
       "      <td>od1e685o9f5j7dtpd9zp2fhew3agjeq</td>\n",
       "      <td>f8ye1kj73h0ymwqj6rlsimwk3jd9tef</td>\n",
       "    </tr>\n",
       "    <tr>\n",
       "      <th>reverting_minor_edit</th>\n",
       "      <td>True</td>\n",
       "      <td>True</td>\n",
       "    </tr>\n",
       "    <tr>\n",
       "      <th>reverting_deleted</th>\n",
       "      <td>False</td>\n",
       "      <td>False</td>\n",
       "    </tr>\n",
       "    <tr>\n",
       "      <th>reverting_parent_id</th>\n",
       "      <td>2.73692e+08</td>\n",
       "      <td>1.36527e+08</td>\n",
       "    </tr>\n",
       "    <tr>\n",
       "      <th>reverting_archived</th>\n",
       "      <td>False</td>\n",
       "      <td>False</td>\n",
       "    </tr>\n",
       "    <tr>\n",
       "      <th>reverting_comment</th>\n",
       "      <td>Robot - Speedily moving category 9th-century i...</td>\n",
       "      <td>Removing {{1911 talk}} per [[Wikipedia:Templat...</td>\n",
       "    </tr>\n",
       "    <tr>\n",
       "      <th>rev_revert_offset</th>\n",
       "      <td>1</td>\n",
       "      <td>1</td>\n",
       "    </tr>\n",
       "    <tr>\n",
       "      <th>revisions_reverted</th>\n",
       "      <td>1</td>\n",
       "      <td>1</td>\n",
       "    </tr>\n",
       "    <tr>\n",
       "      <th>reverted_to_rev_id</th>\n",
       "      <td>259117355</td>\n",
       "      <td>120932016</td>\n",
       "    </tr>\n",
       "    <tr>\n",
       "      <th>page_namespace</th>\n",
       "      <td>0</td>\n",
       "      <td>1</td>\n",
       "    </tr>\n",
       "  </tbody>\n",
       "</table>\n",
       "</div>"
      ],
      "text/plain": [
       "                                                                      0  \\\n",
       "rev_id                                                        273691771   \n",
       "rev_timestamp                                            20090227173507   \n",
       "rev_user                                                        6505923   \n",
       "rev_user_text                                                 Kbdankbot   \n",
       "rev_page                                                        5040439   \n",
       "rev_sha1                                qj45ne2z4yfexmpaz5wfnbm2yrmqt4j   \n",
       "rev_minor_edit                                                    False   \n",
       "rev_deleted                                                       False   \n",
       "rev_parent_id                                               2.59117e+08   \n",
       "archived                                                          False   \n",
       "reverting_id                                                  273789753   \n",
       "reverting_timestamp                                      20090228021925   \n",
       "reverting_user                                                  1215485   \n",
       "reverting_user_text                                             Cydebot   \n",
       "reverting_page                                                  5040439   \n",
       "reverting_sha1                          od1e685o9f5j7dtpd9zp2fhew3agjeq   \n",
       "reverting_minor_edit                                               True   \n",
       "reverting_deleted                                                 False   \n",
       "reverting_parent_id                                         2.73692e+08   \n",
       "reverting_archived                                                False   \n",
       "reverting_comment     Robot - Speedily moving category 9th-century i...   \n",
       "rev_revert_offset                                                     1   \n",
       "revisions_reverted                                                    1   \n",
       "reverted_to_rev_id                                            259117355   \n",
       "page_namespace                                                        0   \n",
       "\n",
       "                                                                      1  \n",
       "rev_id                                                        136526894  \n",
       "rev_timestamp                                            20070607044209  \n",
       "rev_user                                                        4534303  \n",
       "rev_user_text                                                     PbBot  \n",
       "rev_page                                                        3046554  \n",
       "rev_sha1                                3xtnw7u4w9h6cg1smw97mqnr1en6a55  \n",
       "rev_minor_edit                                                    False  \n",
       "rev_deleted                                                       False  \n",
       "rev_parent_id                                               1.20932e+08  \n",
       "archived                                                          False  \n",
       "reverting_id                                                  269875438  \n",
       "reverting_timestamp                                      20090210230337  \n",
       "reverting_user                                                  7328338  \n",
       "reverting_user_text                                               Yobot  \n",
       "reverting_page                                                  3046554  \n",
       "reverting_sha1                          f8ye1kj73h0ymwqj6rlsimwk3jd9tef  \n",
       "reverting_minor_edit                                               True  \n",
       "reverting_deleted                                                 False  \n",
       "reverting_parent_id                                         1.36527e+08  \n",
       "reverting_archived                                                False  \n",
       "reverting_comment     Removing {{1911 talk}} per [[Wikipedia:Templat...  \n",
       "rev_revert_offset                                                     1  \n",
       "revisions_reverted                                                    1  \n",
       "reverted_to_rev_id                                            120932016  \n",
       "page_namespace                                                        1  "
      ]
     },
     "execution_count": 9,
     "metadata": {},
     "output_type": "execute_result"
    }
   ],
   "source": [
    "df_dict['en'][0:2].transpose()"
   ]
  },
  {
   "cell_type": "markdown",
   "metadata": {},
   "source": [
    "### Combining into one tidy dataframe for all languages"
   ]
  },
  {
   "cell_type": "code",
   "execution_count": 10,
   "metadata": {
    "collapsed": true
   },
   "outputs": [],
   "source": [
    "df_all = df_dict['en'].copy()\n",
    "df_all = df_all.drop(df_all.index, axis=0)\n",
    "\n",
    "for lang, lang_df in df_dict.items():\n",
    "    lang_df['language'] = lang\n",
    "    df_all = pd.concat([df_all, lang_df])"
   ]
  },
  {
   "cell_type": "code",
   "execution_count": 11,
   "metadata": {},
   "outputs": [
    {
     "data": {
      "text/plain": [
       "en    512562\n",
       "fr     96480\n",
       "es     89077\n",
       "pt     70973\n",
       "de     69690\n",
       "zh     51536\n",
       "ja     45149\n",
       "Name: language, dtype: int64"
      ]
     },
     "execution_count": 11,
     "metadata": {},
     "output_type": "execute_result"
    }
   ],
   "source": [
    "df_all['language'].value_counts()"
   ]
  },
  {
   "cell_type": "markdown",
   "metadata": {},
   "source": [
    "### Namespace type"
   ]
  },
  {
   "cell_type": "code",
   "execution_count": 12,
   "metadata": {
    "collapsed": true
   },
   "outputs": [],
   "source": [
    "def namespace_type(item):\n",
    "    \"\"\"\n",
    "    Classifies namespace type. To be used with df.apply() on ['page_namespace']\n",
    "    \"\"\"    \n",
    "    if int(item) == 0:\n",
    "        return 'article'\n",
    "    elif int(item) == 14:\n",
    "        return 'category'\n",
    "    elif int(item) % 2 == 1:\n",
    "        return 'other talk'\n",
    "    else:\n",
    "        return 'other page'"
   ]
  },
  {
   "cell_type": "code",
   "execution_count": 13,
   "metadata": {
    "collapsed": true
   },
   "outputs": [],
   "source": [
    "df_all['namespace_type'] = df_all['page_namespace'].apply(namespace_type)"
   ]
  },
  {
   "cell_type": "code",
   "execution_count": 14,
   "metadata": {},
   "outputs": [
    {
     "data": {
      "text/plain": [
       "article       566731\n",
       "category      183779\n",
       "other page    117600\n",
       "other talk     67357\n",
       "Name: namespace_type, dtype: int64"
      ]
     },
     "execution_count": 14,
     "metadata": {},
     "output_type": "execute_result"
    }
   ],
   "source": [
    "df_all['namespace_type'].value_counts()"
   ]
  },
  {
   "cell_type": "markdown",
   "metadata": {},
   "source": [
    "### Datetime parsing"
   ]
  },
  {
   "cell_type": "code",
   "execution_count": 15,
   "metadata": {
    "collapsed": true
   },
   "outputs": [],
   "source": [
    "def get_year(timestamp):\n",
    "    return timestamp.year"
   ]
  },
  {
   "cell_type": "code",
   "execution_count": 16,
   "metadata": {
    "collapsed": true
   },
   "outputs": [],
   "source": [
    "df_all['reverting_timestamp_dt'] = pd.to_datetime(df_all['reverting_timestamp'], format=\"%Y%m%d%H%M%S\")\n",
    "\n",
    "df_all['reverted_timestamp_dt'] = pd.to_datetime(df_all['rev_timestamp'], format=\"%Y%m%d%H%M%S\")\n",
    "\n",
    "df_all = df_all.set_index('reverting_timestamp_dt')\n",
    "\n",
    "df_all['reverting_timestamp_dt'] = pd.to_datetime(df_all['reverting_timestamp'], format=\"%Y%m%d%H%M%S\")\n",
    "\n",
    "df_all['time_to_revert'] = df_all['reverting_timestamp_dt']-df_all['reverted_timestamp_dt']\n",
    "\n",
    "df_all['time_to_revert_hrs'] = df_all['time_to_revert'].astype('timedelta64[s]')/(60*60)\n",
    "\n",
    "df_all['time_to_revert_days'] = df_all['time_to_revert'].astype('timedelta64[s]')/(60*60*24)\n",
    "\n",
    "df_all['reverting_year'] = df_all['reverting_timestamp_dt'].apply(get_year)\n",
    "\n",
    "df_all['time_to_revert_days_log10'] = df_all['time_to_revert_days'].apply(np.log10)\n",
    "\n",
    "df_all['time_to_revert_hrs_log10'] = df_all['time_to_revert_hrs'].apply(np.log10)"
   ]
  },
  {
   "cell_type": "markdown",
   "metadata": {},
   "source": [
    "### Filter all datasets to the same time bounds: 2001 to 2016"
   ]
  },
  {
   "cell_type": "code",
   "execution_count": 17,
   "metadata": {
    "collapsed": true
   },
   "outputs": [],
   "source": [
    "df_all = df_all.ix[\"2001-01-01\":\"2016-12-31\"]"
   ]
  },
  {
   "cell_type": "markdown",
   "metadata": {},
   "source": [
    "#### Counts per year: en"
   ]
  },
  {
   "cell_type": "code",
   "execution_count": 18,
   "metadata": {},
   "outputs": [
    {
     "data": {
      "text/plain": [
       "2004         2\n",
       "2005       130\n",
       "2006      3118\n",
       "2007     17038\n",
       "2008     33110\n",
       "2009     36378\n",
       "2010     30731\n",
       "2011     63161\n",
       "2012     47983\n",
       "2013    201171\n",
       "2014     20570\n",
       "2015     25880\n",
       "2016     23638\n",
       "Name: reverting_year, dtype: int64"
      ]
     },
     "execution_count": 18,
     "metadata": {},
     "output_type": "execute_result"
    }
   ],
   "source": [
    "df_all[df_all['language']=='en'].reverting_year.value_counts().sort_index()"
   ]
  },
  {
   "cell_type": "markdown",
   "metadata": {},
   "source": [
    "#### Counts per year: all"
   ]
  },
  {
   "cell_type": "code",
   "execution_count": 19,
   "metadata": {},
   "outputs": [
    {
     "data": {
      "text/plain": [
       "2004       302\n",
       "2005      1597\n",
       "2006      6354\n",
       "2007     29409\n",
       "2008     54958\n",
       "2009     81467\n",
       "2010     68328\n",
       "2011    146709\n",
       "2012    103033\n",
       "2013    342052\n",
       "2014     26688\n",
       "2015     36693\n",
       "2016     27355\n",
       "Name: reverting_year, dtype: int64"
      ]
     },
     "execution_count": 19,
     "metadata": {},
     "output_type": "execute_result"
    }
   ],
   "source": [
    "df_all.reverting_year.value_counts().sort_index()"
   ]
  },
  {
   "cell_type": "markdown",
   "metadata": {},
   "source": [
    "## Other processing and metadata"
   ]
  },
  {
   "cell_type": "markdown",
   "metadata": {},
   "source": [
    "### Comment parsing: removing text in brackets/parens\n",
    "\n",
    "Function for removing text within square brackets or parentheses, which is useful for aggregating comment messages."
   ]
  },
  {
   "cell_type": "code",
   "execution_count": 20,
   "metadata": {
    "collapsed": true
   },
   "outputs": [],
   "source": [
    "# by http://stackoverflow.com/questions/14596884/remove-text-between-and-in-python\n",
    "\n",
    "def remove_brackets(test_str):\n",
    "    \"\"\"\n",
    "    Takes a string and returns that string with text in brackets and parentheses removed\n",
    "    \"\"\"\n",
    "    \n",
    "    test_str = str(test_str)\n",
    "    ret = ''\n",
    "    skip1c = 0\n",
    "    skip2c = 0\n",
    "    for i in test_str:\n",
    "        if i == '[':\n",
    "            skip1c += 1\n",
    "        elif i == '(':\n",
    "            skip2c += 1\n",
    "        elif i == ']' and skip1c > 0:\n",
    "            skip1c -= 1\n",
    "        elif i == ')'and skip2c > 0:\n",
    "            skip2c -= 1\n",
    "        elif skip1c == 0 and skip2c == 0:\n",
    "            ret += i\n",
    "            \n",
    "    return \" \".join(ret.split())"
   ]
  },
  {
   "cell_type": "code",
   "execution_count": 21,
   "metadata": {
    "collapsed": true
   },
   "outputs": [],
   "source": [
    "df_all['reverting_comment_nobracket'] = df_all['reverting_comment'].apply(remove_brackets)"
   ]
  },
  {
   "cell_type": "code",
   "execution_count": null,
   "metadata": {
    "collapsed": true
   },
   "outputs": [],
   "source": []
  },
  {
   "cell_type": "markdown",
   "metadata": {},
   "source": [
    "### botpair and botpair_sorted"
   ]
  },
  {
   "cell_type": "code",
   "execution_count": 22,
   "metadata": {
    "collapsed": true
   },
   "outputs": [],
   "source": [
    "def concat_botpair(row):\n",
    "    \"\"\"\n",
    "    Concatenate the reverting and reverted user names. To be used with df.apply()\n",
    "    on the entire row\n",
    "    \"\"\"\n",
    "    return str(row['reverting_user_text']) + \" rv \" + str(row['rev_user_text'])\n",
    "\n",
    "def sorted_botpair(row):\n",
    "    \"\"\"\n",
    "    Returns a sorted list of bot pairs (reverted and reverting). To be used with\n",
    "    df.apply() on the entire row. list.sort() is  locale dependent, but it doesn't\n",
    "    matter because all we need is a consistent way of uniquely sorting.\n",
    "    \"\"\"\n",
    "    \n",
    "    return str(sorted([row['reverting_user_text'], row['rev_user_text']]))"
   ]
  },
  {
   "cell_type": "code",
   "execution_count": 23,
   "metadata": {
    "collapsed": true
   },
   "outputs": [],
   "source": [
    "df_all['botpair'] = df_all.apply(concat_botpair, axis=1)"
   ]
  },
  {
   "cell_type": "code",
   "execution_count": 24,
   "metadata": {
    "collapsed": true
   },
   "outputs": [],
   "source": [
    "df_all['botpair_sorted'] = df_all.apply(sorted_botpair, axis=1)"
   ]
  },
  {
   "cell_type": "markdown",
   "metadata": {},
   "source": [
    "### Reverts per page per botpair\n",
    "\n",
    "This analysis is also replicated in R in reverts_per_page_R.ipynb"
   ]
  },
  {
   "cell_type": "code",
   "execution_count": 28,
   "metadata": {
    "collapsed": true
   },
   "outputs": [],
   "source": [
    "gb_lpb = df_all.groupby([\"language\", \"rev_page\", \"botpair\"])\n",
    "gb_lpb_s = df_all.groupby([\"language\", \"rev_page\", \"botpair_sorted\"])"
   ]
  },
  {
   "cell_type": "code",
   "execution_count": 29,
   "metadata": {},
   "outputs": [
    {
     "data": {
      "text/html": [
       "<div>\n",
       "<table border=\"1\" class=\"dataframe\">\n",
       "  <thead>\n",
       "    <tr style=\"text-align: right;\">\n",
       "      <th></th>\n",
       "      <th>language</th>\n",
       "      <th>rev_page</th>\n",
       "      <th>botpair</th>\n",
       "      <th>reverts_per_page_botpair</th>\n",
       "    </tr>\n",
       "  </thead>\n",
       "  <tbody>\n",
       "    <tr>\n",
       "      <th>0</th>\n",
       "      <td>de</td>\n",
       "      <td>61</td>\n",
       "      <td>RedBot rv EmausBot</td>\n",
       "      <td>1</td>\n",
       "    </tr>\n",
       "    <tr>\n",
       "      <th>1</th>\n",
       "      <td>de</td>\n",
       "      <td>81</td>\n",
       "      <td>DumZiBoT rv CarsracBot</td>\n",
       "      <td>1</td>\n",
       "    </tr>\n",
       "    <tr>\n",
       "      <th>2</th>\n",
       "      <td>de</td>\n",
       "      <td>81</td>\n",
       "      <td>MerlIwBot rv ZéroBot</td>\n",
       "      <td>1</td>\n",
       "    </tr>\n",
       "    <tr>\n",
       "      <th>3</th>\n",
       "      <td>de</td>\n",
       "      <td>82</td>\n",
       "      <td>Alecs.bot rv SieBot</td>\n",
       "      <td>1</td>\n",
       "    </tr>\n",
       "    <tr>\n",
       "      <th>4</th>\n",
       "      <td>de</td>\n",
       "      <td>101</td>\n",
       "      <td>Xqbot rv Dinamik-bot</td>\n",
       "      <td>1</td>\n",
       "    </tr>\n",
       "  </tbody>\n",
       "</table>\n",
       "</div>"
      ],
      "text/plain": [
       "  language  rev_page                 botpair  reverts_per_page_botpair\n",
       "0       de        61      RedBot rv EmausBot                         1\n",
       "1       de        81  DumZiBoT rv CarsracBot                         1\n",
       "2       de        81    MerlIwBot rv ZéroBot                         1\n",
       "3       de        82     Alecs.bot rv SieBot                         1\n",
       "4       de       101    Xqbot rv Dinamik-bot                         1"
      ]
     },
     "execution_count": 29,
     "metadata": {},
     "output_type": "execute_result"
    }
   ],
   "source": [
    "df_lpb = pd.DataFrame(gb_lpb['rev_id'].count()).reset_index().rename(columns={\"rev_id\":\"reverts_per_page_botpair\"})\n",
    "df_lpb[0:5]"
   ]
  },
  {
   "cell_type": "code",
   "execution_count": 30,
   "metadata": {},
   "outputs": [
    {
     "data": {
      "text/html": [
       "<div>\n",
       "<table border=\"1\" class=\"dataframe\">\n",
       "  <thead>\n",
       "    <tr style=\"text-align: right;\">\n",
       "      <th></th>\n",
       "      <th>language</th>\n",
       "      <th>rev_page</th>\n",
       "      <th>botpair_sorted</th>\n",
       "      <th>reverts_per_page_botpair_sorted</th>\n",
       "    </tr>\n",
       "  </thead>\n",
       "  <tbody>\n",
       "    <tr>\n",
       "      <th>0</th>\n",
       "      <td>de</td>\n",
       "      <td>61</td>\n",
       "      <td>['EmausBot', 'RedBot']</td>\n",
       "      <td>1</td>\n",
       "    </tr>\n",
       "    <tr>\n",
       "      <th>1</th>\n",
       "      <td>de</td>\n",
       "      <td>81</td>\n",
       "      <td>['CarsracBot', 'DumZiBoT']</td>\n",
       "      <td>1</td>\n",
       "    </tr>\n",
       "    <tr>\n",
       "      <th>2</th>\n",
       "      <td>de</td>\n",
       "      <td>81</td>\n",
       "      <td>['MerlIwBot', 'ZéroBot']</td>\n",
       "      <td>1</td>\n",
       "    </tr>\n",
       "    <tr>\n",
       "      <th>3</th>\n",
       "      <td>de</td>\n",
       "      <td>82</td>\n",
       "      <td>['Alecs.bot', 'SieBot']</td>\n",
       "      <td>1</td>\n",
       "    </tr>\n",
       "    <tr>\n",
       "      <th>4</th>\n",
       "      <td>de</td>\n",
       "      <td>101</td>\n",
       "      <td>['Dinamik-bot', 'Xqbot']</td>\n",
       "      <td>1</td>\n",
       "    </tr>\n",
       "  </tbody>\n",
       "</table>\n",
       "</div>"
      ],
      "text/plain": [
       "  language  rev_page              botpair_sorted  \\\n",
       "0       de        61      ['EmausBot', 'RedBot']   \n",
       "1       de        81  ['CarsracBot', 'DumZiBoT']   \n",
       "2       de        81    ['MerlIwBot', 'ZéroBot']   \n",
       "3       de        82     ['Alecs.bot', 'SieBot']   \n",
       "4       de       101    ['Dinamik-bot', 'Xqbot']   \n",
       "\n",
       "   reverts_per_page_botpair_sorted  \n",
       "0                                1  \n",
       "1                                1  \n",
       "2                                1  \n",
       "3                                1  \n",
       "4                                1  "
      ]
     },
     "execution_count": 30,
     "metadata": {},
     "output_type": "execute_result"
    }
   ],
   "source": [
    "df_lpb_s = pd.DataFrame(gb_lpb_s['rev_id'].count()).reset_index().rename(columns={\"rev_id\":\"reverts_per_page_botpair_sorted\"})\n",
    "df_lpb_s[0:5]"
   ]
  },
  {
   "cell_type": "code",
   "execution_count": 31,
   "metadata": {
    "collapsed": true
   },
   "outputs": [],
   "source": [
    "df_all = pd.merge(df_all, df_lpb, how='left',\n",
    "         left_on=[\"language\", \"rev_page\", \"botpair\"],\n",
    "         right_on=[\"language\", \"rev_page\", \"botpair\"])\n",
    "\n",
    "df_all = pd.merge(df_all, df_lpb_s, how='left',\n",
    "         left_on=[\"language\", \"rev_page\", \"botpair_sorted\"],\n",
    "         right_on=[\"language\", \"rev_page\", \"botpair_sorted\"])"
   ]
  },
  {
   "cell_type": "markdown",
   "metadata": {
    "collapsed": true
   },
   "source": [
    "### Check time to revert for negatives"
   ]
  },
  {
   "cell_type": "code",
   "execution_count": 32,
   "metadata": {},
   "outputs": [
    {
     "data": {
      "text/plain": [
       "0"
      ]
     },
     "execution_count": 32,
     "metadata": {},
     "output_type": "execute_result"
    }
   ],
   "source": [
    "len(df_all.query(\"time_to_revert_days < 0\"))\n"
   ]
  },
  {
   "cell_type": "code",
   "execution_count": 33,
   "metadata": {},
   "outputs": [
    {
     "data": {
      "text/plain": [
       "924945"
      ]
     },
     "execution_count": 33,
     "metadata": {},
     "output_type": "execute_result"
    }
   ],
   "source": [
    "len(df_all.query(\"time_to_revert_days > 0\"))\n"
   ]
  },
  {
   "cell_type": "code",
   "execution_count": 34,
   "metadata": {},
   "outputs": [
    {
     "data": {
      "text/plain": [
       "Series([], Name: rev_id, dtype: int64)"
      ]
     },
     "execution_count": 34,
     "metadata": {},
     "output_type": "execute_result"
    }
   ],
   "source": [
    "df_all.query(\"time_to_revert_days < 0\").groupby(\"language\")['rev_id'].count()\n"
   ]
  },
  {
   "cell_type": "code",
   "execution_count": 35,
   "metadata": {},
   "outputs": [
    {
     "data": {
      "text/plain": [
       "language\n",
       "de     69268\n",
       "en    502910\n",
       "es     88771\n",
       "fr     96446\n",
       "ja     45147\n",
       "pt     70951\n",
       "zh     51452\n",
       "Name: rev_id, dtype: int64"
      ]
     },
     "execution_count": 35,
     "metadata": {},
     "output_type": "execute_result"
    }
   ],
   "source": [
    "df_all.query(\"time_to_revert_days > 0\").groupby(\"language\")['rev_id'].count()\n"
   ]
  },
  {
   "cell_type": "markdown",
   "metadata": {},
   "source": [
    "### Final data format"
   ]
  },
  {
   "cell_type": "code",
   "execution_count": 36,
   "metadata": {},
   "outputs": [
    {
     "data": {
      "text/plain": [
       "924945"
      ]
     },
     "execution_count": 36,
     "metadata": {},
     "output_type": "execute_result"
    }
   ],
   "source": [
    "len(df_all)"
   ]
  },
  {
   "cell_type": "code",
   "execution_count": 37,
   "metadata": {},
   "outputs": [
    {
     "data": {
      "text/html": [
       "<div>\n",
       "<table border=\"1\" class=\"dataframe\">\n",
       "  <thead>\n",
       "    <tr style=\"text-align: right;\">\n",
       "      <th></th>\n",
       "      <th>54071</th>\n",
       "      <th>211567</th>\n",
       "    </tr>\n",
       "  </thead>\n",
       "  <tbody>\n",
       "    <tr>\n",
       "      <th>archived</th>\n",
       "      <td>False</td>\n",
       "      <td>False</td>\n",
       "    </tr>\n",
       "    <tr>\n",
       "      <th>language</th>\n",
       "      <td>es</td>\n",
       "      <td>zh</td>\n",
       "    </tr>\n",
       "    <tr>\n",
       "      <th>page_namespace</th>\n",
       "      <td>0</td>\n",
       "      <td>0</td>\n",
       "    </tr>\n",
       "    <tr>\n",
       "      <th>rev_deleted</th>\n",
       "      <td>False</td>\n",
       "      <td>False</td>\n",
       "    </tr>\n",
       "    <tr>\n",
       "      <th>rev_id</th>\n",
       "      <td>37691764</td>\n",
       "      <td>13831216</td>\n",
       "    </tr>\n",
       "    <tr>\n",
       "      <th>rev_minor_edit</th>\n",
       "      <td>True</td>\n",
       "      <td>True</td>\n",
       "    </tr>\n",
       "    <tr>\n",
       "      <th>rev_page</th>\n",
       "      <td>564893</td>\n",
       "      <td>307634</td>\n",
       "    </tr>\n",
       "    <tr>\n",
       "      <th>rev_parent_id</th>\n",
       "      <td>3.6157e+07</td>\n",
       "      <td>1.34353e+07</td>\n",
       "    </tr>\n",
       "    <tr>\n",
       "      <th>rev_revert_offset</th>\n",
       "      <td>1</td>\n",
       "      <td>1</td>\n",
       "    </tr>\n",
       "    <tr>\n",
       "      <th>rev_sha1</th>\n",
       "      <td>oijc3hpc6cg39g84gfng6u6a6q89wx2</td>\n",
       "      <td>rlz5tksd6caatayg3onatwywuck20my</td>\n",
       "    </tr>\n",
       "    <tr>\n",
       "      <th>rev_timestamp</th>\n",
       "      <td>20100603110044</td>\n",
       "      <td>20100725192350</td>\n",
       "    </tr>\n",
       "    <tr>\n",
       "      <th>rev_user</th>\n",
       "      <td>1107031</td>\n",
       "      <td>469931</td>\n",
       "    </tr>\n",
       "    <tr>\n",
       "      <th>rev_user_text</th>\n",
       "      <td>EmBOTellado</td>\n",
       "      <td>Luckas-bot</td>\n",
       "    </tr>\n",
       "    <tr>\n",
       "      <th>reverted_to_rev_id</th>\n",
       "      <td>36157037</td>\n",
       "      <td>13435313</td>\n",
       "    </tr>\n",
       "    <tr>\n",
       "      <th>reverting_archived</th>\n",
       "      <td>False</td>\n",
       "      <td>False</td>\n",
       "    </tr>\n",
       "    <tr>\n",
       "      <th>reverting_comment</th>\n",
       "      <td>Bot: Revertidos los cambios de [[User:EmBOTell...</td>\n",
       "      <td>機器人 移除: [[hu:Ogame]]</td>\n",
       "    </tr>\n",
       "    <tr>\n",
       "      <th>reverting_deleted</th>\n",
       "      <td>False</td>\n",
       "      <td>False</td>\n",
       "    </tr>\n",
       "    <tr>\n",
       "      <th>reverting_id</th>\n",
       "      <td>37697389</td>\n",
       "      <td>14120192</td>\n",
       "    </tr>\n",
       "    <tr>\n",
       "      <th>reverting_minor_edit</th>\n",
       "      <td>True</td>\n",
       "      <td>True</td>\n",
       "    </tr>\n",
       "    <tr>\n",
       "      <th>reverting_page</th>\n",
       "      <td>564893</td>\n",
       "      <td>307634</td>\n",
       "    </tr>\n",
       "    <tr>\n",
       "      <th>reverting_parent_id</th>\n",
       "      <td>3.76918e+07</td>\n",
       "      <td>1.38312e+07</td>\n",
       "    </tr>\n",
       "    <tr>\n",
       "      <th>reverting_sha1</th>\n",
       "      <td>g0rt4x8w5a82ysuw018q1hop37arwvz</td>\n",
       "      <td>ghvwd5jp1ajvsfmkcvtdsq3sy8qmilc</td>\n",
       "    </tr>\n",
       "    <tr>\n",
       "      <th>reverting_timestamp</th>\n",
       "      <td>20100603131813</td>\n",
       "      <td>20100822055241</td>\n",
       "    </tr>\n",
       "    <tr>\n",
       "      <th>reverting_user</th>\n",
       "      <td>341614</td>\n",
       "      <td>1854</td>\n",
       "    </tr>\n",
       "    <tr>\n",
       "      <th>reverting_user_text</th>\n",
       "      <td>Muro Bot</td>\n",
       "      <td>Sz-iwbot</td>\n",
       "    </tr>\n",
       "    <tr>\n",
       "      <th>revisions_reverted</th>\n",
       "      <td>1</td>\n",
       "      <td>1</td>\n",
       "    </tr>\n",
       "    <tr>\n",
       "      <th>namespace_type</th>\n",
       "      <td>article</td>\n",
       "      <td>article</td>\n",
       "    </tr>\n",
       "    <tr>\n",
       "      <th>reverted_timestamp_dt</th>\n",
       "      <td>2010-06-03 11:00:44</td>\n",
       "      <td>2010-07-25 19:23:50</td>\n",
       "    </tr>\n",
       "    <tr>\n",
       "      <th>reverting_timestamp_dt</th>\n",
       "      <td>2010-06-03 13:18:13</td>\n",
       "      <td>2010-08-22 05:52:41</td>\n",
       "    </tr>\n",
       "    <tr>\n",
       "      <th>time_to_revert</th>\n",
       "      <td>0 days 02:17:29</td>\n",
       "      <td>27 days 10:28:51</td>\n",
       "    </tr>\n",
       "    <tr>\n",
       "      <th>time_to_revert_hrs</th>\n",
       "      <td>2.29139</td>\n",
       "      <td>658.481</td>\n",
       "    </tr>\n",
       "    <tr>\n",
       "      <th>time_to_revert_days</th>\n",
       "      <td>0.0954745</td>\n",
       "      <td>27.4367</td>\n",
       "    </tr>\n",
       "    <tr>\n",
       "      <th>reverting_year</th>\n",
       "      <td>2010</td>\n",
       "      <td>2010</td>\n",
       "    </tr>\n",
       "    <tr>\n",
       "      <th>time_to_revert_days_log10</th>\n",
       "      <td>-1.02011</td>\n",
       "      <td>1.43833</td>\n",
       "    </tr>\n",
       "    <tr>\n",
       "      <th>time_to_revert_hrs_log10</th>\n",
       "      <td>0.360099</td>\n",
       "      <td>2.81854</td>\n",
       "    </tr>\n",
       "    <tr>\n",
       "      <th>reverting_comment_nobracket</th>\n",
       "      <td>Bot: Revertidos los cambios de a la revisión 3...</td>\n",
       "      <td>機器人 移除:</td>\n",
       "    </tr>\n",
       "    <tr>\n",
       "      <th>botpair</th>\n",
       "      <td>Muro Bot rv EmBOTellado</td>\n",
       "      <td>Sz-iwbot rv Luckas-bot</td>\n",
       "    </tr>\n",
       "    <tr>\n",
       "      <th>botpair_sorted</th>\n",
       "      <td>['EmBOTellado', 'Muro Bot']</td>\n",
       "      <td>['Luckas-bot', 'Sz-iwbot']</td>\n",
       "    </tr>\n",
       "    <tr>\n",
       "      <th>reverts_per_page_botpair</th>\n",
       "      <td>1</td>\n",
       "      <td>1</td>\n",
       "    </tr>\n",
       "    <tr>\n",
       "      <th>reverts_per_page_botpair_sorted</th>\n",
       "      <td>1</td>\n",
       "      <td>1</td>\n",
       "    </tr>\n",
       "  </tbody>\n",
       "</table>\n",
       "</div>"
      ],
      "text/plain": [
       "                                                                            54071   \\\n",
       "archived                                                                     False   \n",
       "language                                                                        es   \n",
       "page_namespace                                                                   0   \n",
       "rev_deleted                                                                  False   \n",
       "rev_id                                                                    37691764   \n",
       "rev_minor_edit                                                                True   \n",
       "rev_page                                                                    564893   \n",
       "rev_parent_id                                                           3.6157e+07   \n",
       "rev_revert_offset                                                                1   \n",
       "rev_sha1                                           oijc3hpc6cg39g84gfng6u6a6q89wx2   \n",
       "rev_timestamp                                                       20100603110044   \n",
       "rev_user                                                                   1107031   \n",
       "rev_user_text                                                          EmBOTellado   \n",
       "reverted_to_rev_id                                                        36157037   \n",
       "reverting_archived                                                           False   \n",
       "reverting_comment                Bot: Revertidos los cambios de [[User:EmBOTell...   \n",
       "reverting_deleted                                                            False   \n",
       "reverting_id                                                              37697389   \n",
       "reverting_minor_edit                                                          True   \n",
       "reverting_page                                                              564893   \n",
       "reverting_parent_id                                                    3.76918e+07   \n",
       "reverting_sha1                                     g0rt4x8w5a82ysuw018q1hop37arwvz   \n",
       "reverting_timestamp                                                 20100603131813   \n",
       "reverting_user                                                              341614   \n",
       "reverting_user_text                                                       Muro Bot   \n",
       "revisions_reverted                                                               1   \n",
       "namespace_type                                                             article   \n",
       "reverted_timestamp_dt                                          2010-06-03 11:00:44   \n",
       "reverting_timestamp_dt                                         2010-06-03 13:18:13   \n",
       "time_to_revert                                                     0 days 02:17:29   \n",
       "time_to_revert_hrs                                                         2.29139   \n",
       "time_to_revert_days                                                      0.0954745   \n",
       "reverting_year                                                                2010   \n",
       "time_to_revert_days_log10                                                 -1.02011   \n",
       "time_to_revert_hrs_log10                                                  0.360099   \n",
       "reverting_comment_nobracket      Bot: Revertidos los cambios de a la revisión 3...   \n",
       "botpair                                                    Muro Bot rv EmBOTellado   \n",
       "botpair_sorted                                         ['EmBOTellado', 'Muro Bot']   \n",
       "reverts_per_page_botpair                                                         1   \n",
       "reverts_per_page_botpair_sorted                                                  1   \n",
       "\n",
       "                                                          211567  \n",
       "archived                                                   False  \n",
       "language                                                      zh  \n",
       "page_namespace                                                 0  \n",
       "rev_deleted                                                False  \n",
       "rev_id                                                  13831216  \n",
       "rev_minor_edit                                              True  \n",
       "rev_page                                                  307634  \n",
       "rev_parent_id                                        1.34353e+07  \n",
       "rev_revert_offset                                              1  \n",
       "rev_sha1                         rlz5tksd6caatayg3onatwywuck20my  \n",
       "rev_timestamp                                     20100725192350  \n",
       "rev_user                                                  469931  \n",
       "rev_user_text                                         Luckas-bot  \n",
       "reverted_to_rev_id                                      13435313  \n",
       "reverting_archived                                         False  \n",
       "reverting_comment                           機器人 移除: [[hu:Ogame]]  \n",
       "reverting_deleted                                          False  \n",
       "reverting_id                                            14120192  \n",
       "reverting_minor_edit                                        True  \n",
       "reverting_page                                            307634  \n",
       "reverting_parent_id                                  1.38312e+07  \n",
       "reverting_sha1                   ghvwd5jp1ajvsfmkcvtdsq3sy8qmilc  \n",
       "reverting_timestamp                               20100822055241  \n",
       "reverting_user                                              1854  \n",
       "reverting_user_text                                     Sz-iwbot  \n",
       "revisions_reverted                                             1  \n",
       "namespace_type                                           article  \n",
       "reverted_timestamp_dt                        2010-07-25 19:23:50  \n",
       "reverting_timestamp_dt                       2010-08-22 05:52:41  \n",
       "time_to_revert                                  27 days 10:28:51  \n",
       "time_to_revert_hrs                                       658.481  \n",
       "time_to_revert_days                                      27.4367  \n",
       "reverting_year                                              2010  \n",
       "time_to_revert_days_log10                                1.43833  \n",
       "time_to_revert_hrs_log10                                 2.81854  \n",
       "reverting_comment_nobracket                              機器人 移除:  \n",
       "botpair                                   Sz-iwbot rv Luckas-bot  \n",
       "botpair_sorted                        ['Luckas-bot', 'Sz-iwbot']  \n",
       "reverts_per_page_botpair                                       1  \n",
       "reverts_per_page_botpair_sorted                                1  "
      ]
     },
     "execution_count": 37,
     "metadata": {},
     "output_type": "execute_result"
    }
   ],
   "source": [
    "df_all.sample(2).transpose()"
   ]
  },
  {
   "cell_type": "markdown",
   "metadata": {
    "collapsed": true
   },
   "source": [
    "## Output to file"
   ]
  },
  {
   "cell_type": "code",
   "execution_count": 38,
   "metadata": {
    "collapsed": true
   },
   "outputs": [],
   "source": [
    "df_all.to_pickle(\"../../datasets/parsed_dataframes/df_all_2016.pickle\")"
   ]
  },
  {
   "cell_type": "code",
   "execution_count": 39,
   "metadata": {
    "collapsed": true
   },
   "outputs": [],
   "source": [
    "!xz -k -e -9 ../../datasets/parsed_dataframes/df_all_2016.pickle"
   ]
  },
  {
   "cell_type": "code",
   "execution_count": 40,
   "metadata": {
    "collapsed": true
   },
   "outputs": [],
   "source": [
    "df_all.to_pickle(\"../../datasets/parsed_dataframes/df_all_2016.pickle\")"
   ]
  },
  {
   "cell_type": "code",
   "execution_count": 41,
   "metadata": {},
   "outputs": [
    {
     "name": "stdout",
     "output_type": "stream",
     "text": [
      "Total runtime:  29 minutes,  14 seconds\n"
     ]
    }
   ],
   "source": [
    "end = datetime.datetime.now()\n",
    "\n",
    "time_to_run = end - start\n",
    "minutes = int(time_to_run.seconds/60)\n",
    "seconds = time_to_run.seconds % 60\n",
    "print(\"Total runtime: \", minutes, \"minutes, \", seconds, \"seconds\")"
   ]
  },
  {
   "cell_type": "code",
   "execution_count": null,
   "metadata": {
    "collapsed": true
   },
   "outputs": [],
   "source": []
  }
 ],
 "metadata": {
  "anaconda-cloud": {},
  "kernelspec": {
   "display_name": "Python [default]",
   "language": "python",
   "name": "python3"
  },
  "language_info": {
   "codemirror_mode": {
    "name": "ipython",
    "version": 3
   },
   "file_extension": ".py",
   "mimetype": "text/x-python",
   "name": "python",
   "nbconvert_exporter": "python",
   "pygments_lexer": "ipython3",
   "version": "3.5.3"
  }
 },
 "nbformat": 4,
 "nbformat_minor": 2
}
