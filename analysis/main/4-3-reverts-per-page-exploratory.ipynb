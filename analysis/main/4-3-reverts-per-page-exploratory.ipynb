{
 "cells": [
  {
   "cell_type": "markdown",
   "metadata": {},
   "source": [
    "# Section 4.3: Reverts per page (setup and exploratory)\n",
    "\n",
    "This is a data analysis script used to produce findings in the paper, which you can run based entirely off the files in this GitHub repository. This notebook produces part of the analysis for all languages, and the notebook `4-3-reverts-per-page-enwiki-plots` is an independent replication of this analysis in R that contains plots for the English Wikipedia, which are included in the paper. Note that the R notebook cannot be run on mybinder due to memory requirements, while this one can be.\n",
    "\n",
    "This entire notebook can be run from the beginning with Kernel -> Restart & Run All in the menu bar. It takes less than 1 minute to run on a laptop running a Core i5-2540M processor."
   ]
  },
  {
   "cell_type": "code",
   "execution_count": 1,
   "metadata": {
    "collapsed": true
   },
   "outputs": [],
   "source": [
    "import pandas as pd\n",
    "import seaborn as sns\n",
    "import matplotlib.pyplot as plt\n",
    "import numpy as np\n",
    "import glob\n",
    "import datetime\n",
    "import pickle\n",
    "%matplotlib inline"
   ]
  },
  {
   "cell_type": "code",
   "execution_count": 2,
   "metadata": {},
   "outputs": [],
   "source": [
    "start = datetime.datetime.now()"
   ]
  },
  {
   "cell_type": "markdown",
   "metadata": {},
   "source": [
    "## Load data"
   ]
  },
  {
   "cell_type": "code",
   "execution_count": 3,
   "metadata": {},
   "outputs": [],
   "source": [
    "!unxz --keep --force ../../datasets/parsed_dataframes/df_all_2016.pickle.xz"
   ]
  },
  {
   "cell_type": "code",
   "execution_count": 4,
   "metadata": {},
   "outputs": [
    {
     "name": "stdout",
     "output_type": "stream",
     "text": [
      "../../datasets/parsed_dataframes/df_all_2016.pickle\r\n",
      "../../datasets/parsed_dataframes/df_all_comments_parsed_2016.pickle\r\n",
      "../../datasets/parsed_dataframes/possible_botfights.pickle\r\n"
     ]
    }
   ],
   "source": [
    "!ls ../../datasets/parsed_dataframes/*.pickle"
   ]
  },
  {
   "cell_type": "code",
   "execution_count": 5,
   "metadata": {
    "collapsed": true
   },
   "outputs": [],
   "source": [
    "with open(\"../../datasets/parsed_dataframes/df_all_2016.pickle\", \"rb\") as f:\n",
    "    df_all = pickle.load(f)"
   ]
  },
  {
   "cell_type": "code",
   "execution_count": 6,
   "metadata": {},
   "outputs": [
    {
     "data": {
      "text/html": [
       "<div>\n",
       "<table border=\"1\" class=\"dataframe\">\n",
       "  <thead>\n",
       "    <tr style=\"text-align: right;\">\n",
       "      <th></th>\n",
       "      <th>90862</th>\n",
       "      <th>288675</th>\n",
       "    </tr>\n",
       "  </thead>\n",
       "  <tbody>\n",
       "    <tr>\n",
       "      <th>archived</th>\n",
       "      <td>False</td>\n",
       "      <td>False</td>\n",
       "    </tr>\n",
       "    <tr>\n",
       "      <th>language</th>\n",
       "      <td>en</td>\n",
       "      <td>en</td>\n",
       "    </tr>\n",
       "    <tr>\n",
       "      <th>page_namespace</th>\n",
       "      <td>0</td>\n",
       "      <td>1</td>\n",
       "    </tr>\n",
       "    <tr>\n",
       "      <th>rev_deleted</th>\n",
       "      <td>False</td>\n",
       "      <td>False</td>\n",
       "    </tr>\n",
       "    <tr>\n",
       "      <th>rev_id</th>\n",
       "      <td>69823123</td>\n",
       "      <td>81847193</td>\n",
       "    </tr>\n",
       "    <tr>\n",
       "      <th>rev_minor_edit</th>\n",
       "      <td>True</td>\n",
       "      <td>True</td>\n",
       "    </tr>\n",
       "    <tr>\n",
       "      <th>rev_page</th>\n",
       "      <td>2395356</td>\n",
       "      <td>7433865</td>\n",
       "    </tr>\n",
       "    <tr>\n",
       "      <th>rev_parent_id</th>\n",
       "      <td>6.46626e+07</td>\n",
       "      <td>8.13279e+07</td>\n",
       "    </tr>\n",
       "    <tr>\n",
       "      <th>rev_revert_offset</th>\n",
       "      <td>1</td>\n",
       "      <td>1</td>\n",
       "    </tr>\n",
       "    <tr>\n",
       "      <th>rev_sha1</th>\n",
       "      <td>0ufq2o0ujnx0qc5euv3qdh7nabyrld3</td>\n",
       "      <td>phoiac9h4m842xq45sp7s6u21eteeq1</td>\n",
       "    </tr>\n",
       "    <tr>\n",
       "      <th>rev_timestamp</th>\n",
       "      <td>20060815154332</td>\n",
       "      <td>20061016200314</td>\n",
       "    </tr>\n",
       "    <tr>\n",
       "      <th>rev_user</th>\n",
       "      <td>279219</td>\n",
       "      <td>1385729</td>\n",
       "    </tr>\n",
       "    <tr>\n",
       "      <th>rev_user_text</th>\n",
       "      <td>RussBot</td>\n",
       "      <td>BetacommandBot</td>\n",
       "    </tr>\n",
       "    <tr>\n",
       "      <th>reverted_to_rev_id</th>\n",
       "      <td>64662558</td>\n",
       "      <td>81327869</td>\n",
       "    </tr>\n",
       "    <tr>\n",
       "      <th>reverting_archived</th>\n",
       "      <td>False</td>\n",
       "      <td>False</td>\n",
       "    </tr>\n",
       "    <tr>\n",
       "      <th>reverting_comment</th>\n",
       "      <td>Bot: Fixing double redirect to [[Joseph Sill C...</td>\n",
       "      <td>BOT adding India project banner ([[User:Kingbo...</td>\n",
       "    </tr>\n",
       "    <tr>\n",
       "      <th>reverting_deleted</th>\n",
       "      <td>False</td>\n",
       "      <td>False</td>\n",
       "    </tr>\n",
       "    <tr>\n",
       "      <th>reverting_id</th>\n",
       "      <td>401301532</td>\n",
       "      <td>86098659</td>\n",
       "    </tr>\n",
       "    <tr>\n",
       "      <th>reverting_minor_edit</th>\n",
       "      <td>True</td>\n",
       "      <td>False</td>\n",
       "    </tr>\n",
       "    <tr>\n",
       "      <th>reverting_page</th>\n",
       "      <td>2395356</td>\n",
       "      <td>7433865</td>\n",
       "    </tr>\n",
       "    <tr>\n",
       "      <th>reverting_parent_id</th>\n",
       "      <td>6.98231e+07</td>\n",
       "      <td>8.18472e+07</td>\n",
       "    </tr>\n",
       "    <tr>\n",
       "      <th>reverting_sha1</th>\n",
       "      <td>pcff5y3c7xlyidq5p9zw52innqimd6z</td>\n",
       "      <td>a6ua7121jt9sfp1ddhecey0veclvbte</td>\n",
       "    </tr>\n",
       "    <tr>\n",
       "      <th>reverting_timestamp</th>\n",
       "      <td>20101208193352</td>\n",
       "      <td>20061106190136</td>\n",
       "    </tr>\n",
       "    <tr>\n",
       "      <th>reverting_user</th>\n",
       "      <td>8066546</td>\n",
       "      <td>2466321</td>\n",
       "    </tr>\n",
       "    <tr>\n",
       "      <th>reverting_user_text</th>\n",
       "      <td>Xqbot</td>\n",
       "      <td>LostBot</td>\n",
       "    </tr>\n",
       "    <tr>\n",
       "      <th>revisions_reverted</th>\n",
       "      <td>1</td>\n",
       "      <td>1</td>\n",
       "    </tr>\n",
       "    <tr>\n",
       "      <th>namespace_type</th>\n",
       "      <td>article</td>\n",
       "      <td>other talk</td>\n",
       "    </tr>\n",
       "    <tr>\n",
       "      <th>reverted_timestamp_dt</th>\n",
       "      <td>2006-08-15 15:43:32</td>\n",
       "      <td>2006-10-16 20:03:14</td>\n",
       "    </tr>\n",
       "    <tr>\n",
       "      <th>reverting_timestamp_dt</th>\n",
       "      <td>2010-12-08 19:33:52</td>\n",
       "      <td>2006-11-06 19:01:36</td>\n",
       "    </tr>\n",
       "    <tr>\n",
       "      <th>time_to_revert</th>\n",
       "      <td>1576 days 03:50:20</td>\n",
       "      <td>20 days 22:58:22</td>\n",
       "    </tr>\n",
       "    <tr>\n",
       "      <th>time_to_revert_hrs</th>\n",
       "      <td>37827.8</td>\n",
       "      <td>502.973</td>\n",
       "    </tr>\n",
       "    <tr>\n",
       "      <th>time_to_revert_days</th>\n",
       "      <td>1576.16</td>\n",
       "      <td>20.9572</td>\n",
       "    </tr>\n",
       "    <tr>\n",
       "      <th>reverting_year</th>\n",
       "      <td>2010</td>\n",
       "      <td>2006</td>\n",
       "    </tr>\n",
       "    <tr>\n",
       "      <th>time_to_revert_days_log10</th>\n",
       "      <td>3.1976</td>\n",
       "      <td>1.32133</td>\n",
       "    </tr>\n",
       "    <tr>\n",
       "      <th>time_to_revert_hrs_log10</th>\n",
       "      <td>4.57781</td>\n",
       "      <td>2.70154</td>\n",
       "    </tr>\n",
       "    <tr>\n",
       "      <th>reverting_comment_nobracket</th>\n",
       "      <td>Bot: Fixing double redirect to</td>\n",
       "      <td>BOT adding India project banner Added {{}}, cl...</td>\n",
       "    </tr>\n",
       "    <tr>\n",
       "      <th>botpair</th>\n",
       "      <td>Xqbot rv RussBot</td>\n",
       "      <td>LostBot rv BetacommandBot</td>\n",
       "    </tr>\n",
       "    <tr>\n",
       "      <th>botpair_sorted</th>\n",
       "      <td>['RussBot', 'Xqbot']</td>\n",
       "      <td>['BetacommandBot', 'LostBot']</td>\n",
       "    </tr>\n",
       "    <tr>\n",
       "      <th>reverts_per_page_botpair</th>\n",
       "      <td>1</td>\n",
       "      <td>1</td>\n",
       "    </tr>\n",
       "    <tr>\n",
       "      <th>reverts_per_page_botpair_sorted</th>\n",
       "      <td>1</td>\n",
       "      <td>1</td>\n",
       "    </tr>\n",
       "  </tbody>\n",
       "</table>\n",
       "</div>"
      ],
      "text/plain": [
       "                                                                            90862   \\\n",
       "archived                                                                     False   \n",
       "language                                                                        en   \n",
       "page_namespace                                                                   0   \n",
       "rev_deleted                                                                  False   \n",
       "rev_id                                                                    69823123   \n",
       "rev_minor_edit                                                                True   \n",
       "rev_page                                                                   2395356   \n",
       "rev_parent_id                                                          6.46626e+07   \n",
       "rev_revert_offset                                                                1   \n",
       "rev_sha1                                           0ufq2o0ujnx0qc5euv3qdh7nabyrld3   \n",
       "rev_timestamp                                                       20060815154332   \n",
       "rev_user                                                                    279219   \n",
       "rev_user_text                                                              RussBot   \n",
       "reverted_to_rev_id                                                        64662558   \n",
       "reverting_archived                                                           False   \n",
       "reverting_comment                Bot: Fixing double redirect to [[Joseph Sill C...   \n",
       "reverting_deleted                                                            False   \n",
       "reverting_id                                                             401301532   \n",
       "reverting_minor_edit                                                          True   \n",
       "reverting_page                                                             2395356   \n",
       "reverting_parent_id                                                    6.98231e+07   \n",
       "reverting_sha1                                     pcff5y3c7xlyidq5p9zw52innqimd6z   \n",
       "reverting_timestamp                                                 20101208193352   \n",
       "reverting_user                                                             8066546   \n",
       "reverting_user_text                                                          Xqbot   \n",
       "revisions_reverted                                                               1   \n",
       "namespace_type                                                             article   \n",
       "reverted_timestamp_dt                                          2006-08-15 15:43:32   \n",
       "reverting_timestamp_dt                                         2010-12-08 19:33:52   \n",
       "time_to_revert                                                  1576 days 03:50:20   \n",
       "time_to_revert_hrs                                                         37827.8   \n",
       "time_to_revert_days                                                        1576.16   \n",
       "reverting_year                                                                2010   \n",
       "time_to_revert_days_log10                                                   3.1976   \n",
       "time_to_revert_hrs_log10                                                   4.57781   \n",
       "reverting_comment_nobracket                         Bot: Fixing double redirect to   \n",
       "botpair                                                           Xqbot rv RussBot   \n",
       "botpair_sorted                                                ['RussBot', 'Xqbot']   \n",
       "reverts_per_page_botpair                                                         1   \n",
       "reverts_per_page_botpair_sorted                                                  1   \n",
       "\n",
       "                                                                            288675  \n",
       "archived                                                                     False  \n",
       "language                                                                        en  \n",
       "page_namespace                                                                   1  \n",
       "rev_deleted                                                                  False  \n",
       "rev_id                                                                    81847193  \n",
       "rev_minor_edit                                                                True  \n",
       "rev_page                                                                   7433865  \n",
       "rev_parent_id                                                          8.13279e+07  \n",
       "rev_revert_offset                                                                1  \n",
       "rev_sha1                                           phoiac9h4m842xq45sp7s6u21eteeq1  \n",
       "rev_timestamp                                                       20061016200314  \n",
       "rev_user                                                                   1385729  \n",
       "rev_user_text                                                       BetacommandBot  \n",
       "reverted_to_rev_id                                                        81327869  \n",
       "reverting_archived                                                           False  \n",
       "reverting_comment                BOT adding India project banner ([[User:Kingbo...  \n",
       "reverting_deleted                                                            False  \n",
       "reverting_id                                                              86098659  \n",
       "reverting_minor_edit                                                         False  \n",
       "reverting_page                                                             7433865  \n",
       "reverting_parent_id                                                    8.18472e+07  \n",
       "reverting_sha1                                     a6ua7121jt9sfp1ddhecey0veclvbte  \n",
       "reverting_timestamp                                                 20061106190136  \n",
       "reverting_user                                                             2466321  \n",
       "reverting_user_text                                                        LostBot  \n",
       "revisions_reverted                                                               1  \n",
       "namespace_type                                                          other talk  \n",
       "reverted_timestamp_dt                                          2006-10-16 20:03:14  \n",
       "reverting_timestamp_dt                                         2006-11-06 19:01:36  \n",
       "time_to_revert                                                    20 days 22:58:22  \n",
       "time_to_revert_hrs                                                         502.973  \n",
       "time_to_revert_days                                                        20.9572  \n",
       "reverting_year                                                                2006  \n",
       "time_to_revert_days_log10                                                  1.32133  \n",
       "time_to_revert_hrs_log10                                                   2.70154  \n",
       "reverting_comment_nobracket      BOT adding India project banner Added {{}}, cl...  \n",
       "botpair                                                  LostBot rv BetacommandBot  \n",
       "botpair_sorted                                       ['BetacommandBot', 'LostBot']  \n",
       "reverts_per_page_botpair                                                         1  \n",
       "reverts_per_page_botpair_sorted                                                  1  "
      ]
     },
     "execution_count": 6,
     "metadata": {},
     "output_type": "execute_result"
    }
   ],
   "source": [
    "df_all.sample(2).transpose()"
   ]
  },
  {
   "cell_type": "markdown",
   "metadata": {
    "collapsed": true
   },
   "source": [
    "## Number of reverts per page per bot pair\n",
    "### Group by language, page ID, and botpair_sorted\n",
    "Grouping by these three columns creates a very simple and useful intersection for this metric. If there is only one revert for a language/page ID/botpair_sorted set, then the reverting bot's revert was for sure unreciprocated by the reverted bot. If there are two reverts, then the most likely outcome is that the reverting bot's revert was followed by a revert by the reverted bot, although this could also mean that the reverting bot reverted the reverted bot twice. Higher counts imply heavy back-and-forth reverts between two bots on a single page.\n",
    "\n",
    "We count the number of reverts with the same language, page ID, and sorted botpair, then assign that value to `reverts_per_page_botpair_sorted` for every revert matching these three columns. Note that this initial analysis is conducted in `0-load-process-data.ipynb`, but we have included it again for clarity."
   ]
  },
  {
   "cell_type": "code",
   "execution_count": 7,
   "metadata": {
    "collapsed": true
   },
   "outputs": [],
   "source": [
    "groupby_lang_page_bps = df_all.groupby([\"language\", \"rev_page\", \"botpair_sorted\"])"
   ]
  },
  {
   "cell_type": "code",
   "execution_count": 8,
   "metadata": {},
   "outputs": [
    {
     "data": {
      "text/html": [
       "<div>\n",
       "<table border=\"1\" class=\"dataframe\">\n",
       "  <thead>\n",
       "    <tr style=\"text-align: right;\">\n",
       "      <th></th>\n",
       "      <th>language</th>\n",
       "      <th>rev_page</th>\n",
       "      <th>botpair_sorted</th>\n",
       "      <th>reverts_per_page_botpair_sorted</th>\n",
       "    </tr>\n",
       "  </thead>\n",
       "  <tbody>\n",
       "    <tr>\n",
       "      <th>763452</th>\n",
       "      <td>zh</td>\n",
       "      <td>430781</td>\n",
       "      <td>['Addbot', 'TuHan-Bot']</td>\n",
       "      <td>1</td>\n",
       "    </tr>\n",
       "    <tr>\n",
       "      <th>491767</th>\n",
       "      <td>es</td>\n",
       "      <td>1509221</td>\n",
       "      <td>['KLBot2', 'Thijs!bot']</td>\n",
       "      <td>1</td>\n",
       "    </tr>\n",
       "    <tr>\n",
       "      <th>687833</th>\n",
       "      <td>pt</td>\n",
       "      <td>95122</td>\n",
       "      <td>['HerculeBot', 'TXiKiBoT']</td>\n",
       "      <td>1</td>\n",
       "    </tr>\n",
       "    <tr>\n",
       "      <th>691638</th>\n",
       "      <td>pt</td>\n",
       "      <td>137599</td>\n",
       "      <td>['HRoestBot', 'MerlIwBot']</td>\n",
       "      <td>1</td>\n",
       "    </tr>\n",
       "    <tr>\n",
       "      <th>340046</th>\n",
       "      <td>en</td>\n",
       "      <td>25742559</td>\n",
       "      <td>['Xqbot', 'タチコマ robot']</td>\n",
       "      <td>1</td>\n",
       "    </tr>\n",
       "    <tr>\n",
       "      <th>491978</th>\n",
       "      <td>es</td>\n",
       "      <td>1525587</td>\n",
       "      <td>['MystBot', 'ZéroBot']</td>\n",
       "      <td>2</td>\n",
       "    </tr>\n",
       "    <tr>\n",
       "      <th>6190</th>\n",
       "      <td>de</td>\n",
       "      <td>96875</td>\n",
       "      <td>['OKBot', 'ToePeu.bot']</td>\n",
       "      <td>1</td>\n",
       "    </tr>\n",
       "    <tr>\n",
       "      <th>81268</th>\n",
       "      <td>en</td>\n",
       "      <td>561329</td>\n",
       "      <td>['Amalthea (bot)', 'Cyberbot II']</td>\n",
       "      <td>1</td>\n",
       "    </tr>\n",
       "    <tr>\n",
       "      <th>222176</th>\n",
       "      <td>en</td>\n",
       "      <td>13365708</td>\n",
       "      <td>['KLBot2', 'NjardarBot']</td>\n",
       "      <td>1</td>\n",
       "    </tr>\n",
       "    <tr>\n",
       "      <th>661025</th>\n",
       "      <td>ja</td>\n",
       "      <td>917372</td>\n",
       "      <td>['TXiKiBoT', 'VolkovBot']</td>\n",
       "      <td>1</td>\n",
       "    </tr>\n",
       "    <tr>\n",
       "      <th>115437</th>\n",
       "      <td>en</td>\n",
       "      <td>2802848</td>\n",
       "      <td>['Addbot', 'Rubinbot']</td>\n",
       "      <td>1</td>\n",
       "    </tr>\n",
       "    <tr>\n",
       "      <th>391836</th>\n",
       "      <td>en</td>\n",
       "      <td>30933876</td>\n",
       "      <td>['Addbot', 'Luckas-bot']</td>\n",
       "      <td>1</td>\n",
       "    </tr>\n",
       "    <tr>\n",
       "      <th>271258</th>\n",
       "      <td>en</td>\n",
       "      <td>18640319</td>\n",
       "      <td>['Addbot', 'Thijs!bot']</td>\n",
       "      <td>1</td>\n",
       "    </tr>\n",
       "    <tr>\n",
       "      <th>655919</th>\n",
       "      <td>ja</td>\n",
       "      <td>595560</td>\n",
       "      <td>['AStarBot', 'Luckas-bot']</td>\n",
       "      <td>1</td>\n",
       "    </tr>\n",
       "    <tr>\n",
       "      <th>779963</th>\n",
       "      <td>zh</td>\n",
       "      <td>1289505</td>\n",
       "      <td>['Addbot', 'TXiKiBoT']</td>\n",
       "      <td>1</td>\n",
       "    </tr>\n",
       "    <tr>\n",
       "      <th>109468</th>\n",
       "      <td>en</td>\n",
       "      <td>2291974</td>\n",
       "      <td>['Addbot', 'EmausBot']</td>\n",
       "      <td>1</td>\n",
       "    </tr>\n",
       "    <tr>\n",
       "      <th>11653</th>\n",
       "      <td>de</td>\n",
       "      <td>304134</td>\n",
       "      <td>['EmausBot', 'WikitanvirBot']</td>\n",
       "      <td>1</td>\n",
       "    </tr>\n",
       "    <tr>\n",
       "      <th>741953</th>\n",
       "      <td>pt</td>\n",
       "      <td>2859186</td>\n",
       "      <td>['EmausBot', 'KLBot2']</td>\n",
       "      <td>1</td>\n",
       "    </tr>\n",
       "    <tr>\n",
       "      <th>183182</th>\n",
       "      <td>en</td>\n",
       "      <td>9193804</td>\n",
       "      <td>['RussBot', 'Xqbot']</td>\n",
       "      <td>1</td>\n",
       "    </tr>\n",
       "    <tr>\n",
       "      <th>206704</th>\n",
       "      <td>en</td>\n",
       "      <td>11808922</td>\n",
       "      <td>['GrouchoBot', 'SassoBot']</td>\n",
       "      <td>1</td>\n",
       "    </tr>\n",
       "    <tr>\n",
       "      <th>769146</th>\n",
       "      <td>zh</td>\n",
       "      <td>701155</td>\n",
       "      <td>['Addbot', 'TXiKiBoT']</td>\n",
       "      <td>1</td>\n",
       "    </tr>\n",
       "    <tr>\n",
       "      <th>372489</th>\n",
       "      <td>en</td>\n",
       "      <td>28729197</td>\n",
       "      <td>['Fbot', 'SteveBot']</td>\n",
       "      <td>1</td>\n",
       "    </tr>\n",
       "    <tr>\n",
       "      <th>598</th>\n",
       "      <td>de</td>\n",
       "      <td>3328</td>\n",
       "      <td>['MastiBot', 'RedBot']</td>\n",
       "      <td>1</td>\n",
       "    </tr>\n",
       "    <tr>\n",
       "      <th>99977</th>\n",
       "      <td>en</td>\n",
       "      <td>1598036</td>\n",
       "      <td>['AvicBot', 'Xqbot']</td>\n",
       "      <td>1</td>\n",
       "    </tr>\n",
       "    <tr>\n",
       "      <th>502222</th>\n",
       "      <td>es</td>\n",
       "      <td>2344762</td>\n",
       "      <td>['DSisyphBot', 'DumZiBoT']</td>\n",
       "      <td>1</td>\n",
       "    </tr>\n",
       "  </tbody>\n",
       "</table>\n",
       "</div>"
      ],
      "text/plain": [
       "       language  rev_page                     botpair_sorted  \\\n",
       "763452       zh    430781            ['Addbot', 'TuHan-Bot']   \n",
       "491767       es   1509221            ['KLBot2', 'Thijs!bot']   \n",
       "687833       pt     95122         ['HerculeBot', 'TXiKiBoT']   \n",
       "691638       pt    137599         ['HRoestBot', 'MerlIwBot']   \n",
       "340046       en  25742559            ['Xqbot', 'タチコマ robot']   \n",
       "491978       es   1525587             ['MystBot', 'ZéroBot']   \n",
       "6190         de     96875            ['OKBot', 'ToePeu.bot']   \n",
       "81268        en    561329  ['Amalthea (bot)', 'Cyberbot II']   \n",
       "222176       en  13365708           ['KLBot2', 'NjardarBot']   \n",
       "661025       ja    917372          ['TXiKiBoT', 'VolkovBot']   \n",
       "115437       en   2802848             ['Addbot', 'Rubinbot']   \n",
       "391836       en  30933876           ['Addbot', 'Luckas-bot']   \n",
       "271258       en  18640319            ['Addbot', 'Thijs!bot']   \n",
       "655919       ja    595560         ['AStarBot', 'Luckas-bot']   \n",
       "779963       zh   1289505             ['Addbot', 'TXiKiBoT']   \n",
       "109468       en   2291974             ['Addbot', 'EmausBot']   \n",
       "11653        de    304134      ['EmausBot', 'WikitanvirBot']   \n",
       "741953       pt   2859186             ['EmausBot', 'KLBot2']   \n",
       "183182       en   9193804               ['RussBot', 'Xqbot']   \n",
       "206704       en  11808922         ['GrouchoBot', 'SassoBot']   \n",
       "769146       zh    701155             ['Addbot', 'TXiKiBoT']   \n",
       "372489       en  28729197               ['Fbot', 'SteveBot']   \n",
       "598          de      3328             ['MastiBot', 'RedBot']   \n",
       "99977        en   1598036               ['AvicBot', 'Xqbot']   \n",
       "502222       es   2344762         ['DSisyphBot', 'DumZiBoT']   \n",
       "\n",
       "        reverts_per_page_botpair_sorted  \n",
       "763452                                1  \n",
       "491767                                1  \n",
       "687833                                1  \n",
       "691638                                1  \n",
       "340046                                1  \n",
       "491978                                2  \n",
       "6190                                  1  \n",
       "81268                                 1  \n",
       "222176                                1  \n",
       "661025                                1  \n",
       "115437                                1  \n",
       "391836                                1  \n",
       "271258                                1  \n",
       "655919                                1  \n",
       "779963                                1  \n",
       "109468                                1  \n",
       "11653                                 1  \n",
       "741953                                1  \n",
       "183182                                1  \n",
       "206704                                1  \n",
       "769146                                1  \n",
       "372489                                1  \n",
       "598                                   1  \n",
       "99977                                 1  \n",
       "502222                                1  "
      ]
     },
     "execution_count": 8,
     "metadata": {},
     "output_type": "execute_result"
    }
   ],
   "source": [
    "df_groupby = pd.DataFrame(groupby_lang_page_bps['rev_id'].count()).reset_index().rename(columns={\"rev_id\":\"reverts_per_page_botpair_sorted\"})\n",
    "df_groupby.sample(25)"
   ]
  },
  {
   "cell_type": "markdown",
   "metadata": {},
   "source": [
    "### Add reverts_per_page_botpair_sorted to df_all"
   ]
  },
  {
   "cell_type": "code",
   "execution_count": 9,
   "metadata": {
    "collapsed": true
   },
   "outputs": [],
   "source": [
    "df_all = df_all.drop(\"reverts_per_page_botpair_sorted\",1)\n",
    "    \n",
    "    \n",
    "\n",
    "df_all = pd.merge(df_all, df_groupby, how='left',\n",
    "         left_on=[\"language\", \"rev_page\", \"botpair_sorted\"],\n",
    "         right_on=[\"language\", \"rev_page\", \"botpair_sorted\"])"
   ]
  },
  {
   "cell_type": "markdown",
   "metadata": {},
   "source": [
    "## Analysis\n",
    "### Number of reverts by revert_per_page_botpair_sorted, all languages, articles only\n",
    "\n",
    "For example, 528,104 reverts were not reciprocated at all. 25,528 reverts were part of a two-bot revert chain on the same page in the same language lasting 2 reverts. 3,987 reverts were part of a two-bot revert chain in the same page in the same language lasting 3 reverts, and so on."
   ]
  },
  {
   "cell_type": "code",
   "execution_count": 10,
   "metadata": {
    "scrolled": true
   },
   "outputs": [
    {
     "data": {
      "text/plain": [
       "1     528104\n",
       "2      25528\n",
       "3       3987\n",
       "4       1212\n",
       "5        540\n",
       "6        336\n",
       "7        259\n",
       "8        176\n",
       "9        135\n",
       "10        60\n",
       "11        44\n",
       "12        96\n",
       "13       143\n",
       "14        70\n",
       "15        90\n",
       "16        80\n",
       "17        85\n",
       "18        54\n",
       "19        95\n",
       "20        20\n",
       "21        42\n",
       "22        88\n",
       "23       138\n",
       "24        72\n",
       "28        56\n",
       "29        87\n",
       "30        90\n",
       "31        93\n",
       "35        35\n",
       "39        39\n",
       "41        82\n",
       "Name: reverts_per_page_botpair_sorted, dtype: int64"
      ]
     },
     "execution_count": 10,
     "metadata": {},
     "output_type": "execute_result"
    }
   ],
   "source": [
    "df_all.query(\"page_namespace == 0\").reverts_per_page_botpair_sorted.value_counts().sort_index()"
   ]
  },
  {
   "cell_type": "code",
   "execution_count": 11,
   "metadata": {},
   "outputs": [
    {
     "data": {
      "text/plain": [
       "<matplotlib.axes._subplots.AxesSubplot at 0x7f1e662629b0>"
      ]
     },
     "execution_count": 11,
     "metadata": {},
     "output_type": "execute_result"
    },
    {
     "data": {
      "image/png": "[encoded data removed]",
      "text/plain": [
       "<matplotlib.figure.Figure at 0x7f1e66262208>"
      ]
     },
     "metadata": {},
     "output_type": "display_data"
    }
   ],
   "source": [
    "sns.set(font_scale=1.5, style=\"whitegrid\")\n",
    "df_all.query(\"page_namespace == 0\").reverts_per_page_botpair_sorted.value_counts().sort_index().plot(kind='bar')"
   ]
  },
  {
   "cell_type": "markdown",
   "metadata": {},
   "source": [
    "### Number of reverts by revert_per_page_botpair_sorted, English only, articles only\n"
   ]
  },
  {
   "cell_type": "code",
   "execution_count": 12,
   "metadata": {},
   "outputs": [
    {
     "data": {
      "text/plain": [
       "1     228198\n",
       "2      13012\n",
       "3       1860\n",
       "4        476\n",
       "5        120\n",
       "6         24\n",
       "7         28\n",
       "8         32\n",
       "9         27\n",
       "10        10\n",
       "11        11\n",
       "13        39\n",
       "14        28\n",
       "15        60\n",
       "16        16\n",
       "17        51\n",
       "18        54\n",
       "19        38\n",
       "20        20\n",
       "21        21\n",
       "22        22\n",
       "23        92\n",
       "24        72\n",
       "28        56\n",
       "29        87\n",
       "30        90\n",
       "31        93\n",
       "35        35\n",
       "39        39\n",
       "41        82\n",
       "Name: reverts_per_page_botpair_sorted, dtype: int64"
      ]
     },
     "execution_count": 12,
     "metadata": {},
     "output_type": "execute_result"
    }
   ],
   "source": [
    "df_all.query(\"page_namespace == 0 and language=='en'\").reverts_per_page_botpair_sorted.value_counts().sort_index()"
   ]
  },
  {
   "cell_type": "code",
   "execution_count": 13,
   "metadata": {},
   "outputs": [
    {
     "data": {
      "text/plain": [
       "<matplotlib.axes._subplots.AxesSubplot at 0x7f1e66531a90>"
      ]
     },
     "execution_count": 13,
     "metadata": {},
     "output_type": "execute_result"
    },
    {
     "data": {
      "image/png": "[encoded data removed]",
      "text/plain": [
       "<matplotlib.figure.Figure at 0x7f1e665cfe80>"
      ]
     },
     "metadata": {},
     "output_type": "display_data"
    }
   ],
   "source": [
    "sns.set(font_scale=1.5, style=\"whitegrid\")\n",
    "df_all.query(\"page_namespace == 0 and language == 'en'\").reverts_per_page_botpair_sorted.value_counts().sort_index().plot(kind='bar')"
   ]
  },
  {
   "cell_type": "markdown",
   "metadata": {},
   "source": [
    "### Checking that the sum of the counts and the total number of reverts are the same"
   ]
  },
  {
   "cell_type": "code",
   "execution_count": 14,
   "metadata": {},
   "outputs": [
    {
     "data": {
      "text/plain": [
       "244793"
      ]
     },
     "execution_count": 14,
     "metadata": {},
     "output_type": "execute_result"
    }
   ],
   "source": [
    "df_all.query(\"page_namespace == 0 and language=='en'\").reverts_per_page_botpair_sorted.value_counts().sum()"
   ]
  },
  {
   "cell_type": "code",
   "execution_count": 15,
   "metadata": {},
   "outputs": [
    {
     "data": {
      "text/plain": [
       "244793"
      ]
     },
     "execution_count": 15,
     "metadata": {},
     "output_type": "execute_result"
    }
   ],
   "source": [
    "len(df_all.query(\"page_namespace == 0 and language=='en'\"))"
   ]
  },
  {
   "cell_type": "markdown",
   "metadata": {},
   "source": [
    "## Finding pages with more than 500 reverts by/on the same bots"
   ]
  },
  {
   "cell_type": "code",
   "execution_count": 16,
   "metadata": {
    "collapsed": true
   },
   "outputs": [],
   "source": [
    "gb = df_all.query(\"reverts_per_page_botpair_sorted > 500\").groupby([\"language\", \"page_namespace\", \"rev_page\", \"botpair_sorted\"])"
   ]
  },
  {
   "cell_type": "code",
   "execution_count": 17,
   "metadata": {},
   "outputs": [
    {
     "data": {
      "text/plain": [
       "language  page_namespace  rev_page  botpair_sorted                              \n",
       "en        4               974956    ['AnomieBOT', 'Legobot']                          521\n",
       "                          4626266   ['ClueBot NG', 'HBC AIV helperbot']              2047\n",
       "                                    ['ClueBot NG', 'HBC AIV helperbot11']            2538\n",
       "                                    ['ClueBot NG', 'HBC AIV helperbot5']             8723\n",
       "                                    ['ClueBot NG', 'HBC AIV helperbot7']            10473\n",
       "                                    ['ClueBot', 'HBC AIV helperbot2']                1002\n",
       "                                    ['ClueBot', 'HBC AIV helperbot3']                5822\n",
       "                                    ['ClueBot', 'HBC AIV helperbot4']                1545\n",
       "                                    ['ClueBot', 'HBC AIV helperbot5']                3007\n",
       "                                    ['ClueBot', 'HBC AIV helperbot7']                4110\n",
       "                                    ['DatBot', 'HBC AIV helperbot5']                  753\n",
       "                                    ['HBC AIV helperbot', 'Mr.Z-bot']                 753\n",
       "                                    ['HBC AIV helperbot3', 'VoABot II']              1889\n",
       "                                    ['HBC AIV helperbot5', 'Mr.Z-bot']               2235\n",
       "                                    ['HBC AIV helperbot7', 'Mr.Z-bot']               4504\n",
       "                                    ['HBC AIV helperbot7', 'VoABot II']               687\n",
       "                          5964327   ['ClueBot II', 'CorenSearchBot']                 3551\n",
       "                          11005908  ['EssjayBot', 'Sandbot']                          508\n",
       "                          11238105  ['DeltaQuadBot', 'HBC AIV helperbot5']            694\n",
       "                                    ['DeltaQuadBot', 'HBC AIV helperbot7']           3227\n",
       "                                    ['HBC AIV helperbot2', 'HBC NameWatcherBot']      966\n",
       "                                    ['HBC AIV helperbot3', 'HBC NameWatcherBot']     4507\n",
       "                                    ['HBC AIV helperbot4', 'HBC NameWatcherBot']     1064\n",
       "                                    ['HBC AIV helperbot5', 'HBC NameWatcherBot']     2020\n",
       "                                    ['HBC AIV helperbot5', 'SoxBot']                  628\n",
       "                                    ['HBC AIV helperbot7', 'HBC NameWatcherBot']     2620\n",
       "                                    ['HBC AIV helperbot7', 'SoxBot']                 1639\n",
       "Name: rev_id, dtype: int64"
      ]
     },
     "execution_count": 17,
     "metadata": {},
     "output_type": "execute_result"
    }
   ],
   "source": [
    "gb['rev_id'].count()"
   ]
  },
  {
   "cell_type": "markdown",
   "metadata": {},
   "source": [
    "From a manual lookup:\n",
    "\n",
    "page_id\tpage_title\n",
    "- 974956\tPossibly_unfree_files\n",
    "- 4626266\tAdministrator_intervention_against_vandalism/TB2\n",
    "- 5964327\tSuspected_copyright_violations\n",
    "- 11005908\tTutorial/Editing/sandbox\n",
    "- 11238105\tUsernames_for_administrator_attention/Bot"
   ]
  },
  {
   "cell_type": "markdown",
   "metadata": {},
   "source": [
    "### How many total bot-bot reverts in these pages?"
   ]
  },
  {
   "cell_type": "code",
   "execution_count": 18,
   "metadata": {},
   "outputs": [
    {
     "data": {
      "text/plain": [
       "55739"
      ]
     },
     "execution_count": 18,
     "metadata": {},
     "output_type": "execute_result"
    }
   ],
   "source": [
    "len(df_all.query(\"language == 'en' and rev_page == 4626266\"))"
   ]
  },
  {
   "cell_type": "code",
   "execution_count": 19,
   "metadata": {},
   "outputs": [
    {
     "data": {
      "text/plain": [
       "18919"
      ]
     },
     "execution_count": 19,
     "metadata": {},
     "output_type": "execute_result"
    }
   ],
   "source": [
    "len(df_all.query(\"language == 'en' and rev_page == 11238105\"))"
   ]
  },
  {
   "cell_type": "code",
   "execution_count": 20,
   "metadata": {},
   "outputs": [
    {
     "data": {
      "text/plain": [
       "3659"
      ]
     },
     "execution_count": 20,
     "metadata": {},
     "output_type": "execute_result"
    }
   ],
   "source": [
    "len(df_all.query(\"language == 'en' and rev_page == 5964327\"))"
   ]
  },
  {
   "cell_type": "markdown",
   "metadata": {
    "collapsed": true
   },
   "source": [
    "### Median time to revert for a Mathbot-curated list"
   ]
  },
  {
   "cell_type": "code",
   "execution_count": 21,
   "metadata": {},
   "outputs": [
    {
     "data": {
      "text/plain": [
       "botpair\n",
       "FrescoBot rv Mathbot    36.399456\n",
       "Mathbot rv DrilBot       0.556840\n",
       "Mathbot rv FrescoBot     0.670440\n",
       "Mathbot rv Yobot         0.944352\n",
       "Yobot rv Mathbot        12.057517\n",
       "Name: time_to_revert_days, dtype: float64"
      ]
     },
     "execution_count": 21,
     "metadata": {},
     "output_type": "execute_result"
    }
   ],
   "source": [
    "df_all.query(\"language == 'en' and rev_page == 5971841\").groupby(\"botpair\")['time_to_revert_days'].median()"
   ]
  },
  {
   "cell_type": "markdown",
   "metadata": {},
   "source": [
    "## Runtime"
   ]
  },
  {
   "cell_type": "code",
   "execution_count": 22,
   "metadata": {},
   "outputs": [
    {
     "name": "stdout",
     "output_type": "stream",
     "text": [
      "Total runtime:  0 minutes,  15 seconds\n"
     ]
    }
   ],
   "source": [
    "end = datetime.datetime.now()\n",
    "\n",
    "time_to_run = end - start\n",
    "minutes = int(time_to_run.seconds/60)\n",
    "seconds = time_to_run.seconds % 60\n",
    "print(\"Total runtime: \", minutes, \"minutes, \", seconds, \"seconds\")"
   ]
  }
 ],
 "metadata": {
  "anaconda-cloud": {},
  "kernelspec": {
   "display_name": "Python [default]",
   "language": "python",
   "name": "python3"
  },
  "language_info": {
   "codemirror_mode": {
    "name": "ipython",
    "version": 3
   },
   "file_extension": ".py",
   "mimetype": "text/x-python",
   "name": "python",
   "nbconvert_exporter": "python",
   "pygments_lexer": "ipython3",
   "version": "3.5.3"
  }
 },
 "nbformat": 4,
 "nbformat_minor": 2
}
